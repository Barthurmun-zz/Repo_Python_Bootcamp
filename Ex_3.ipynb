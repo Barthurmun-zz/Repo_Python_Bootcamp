{
 "cells": [
  {
   "cell_type": "code",
   "execution_count": 19,
   "metadata": {
    "collapsed": true
   },
   "outputs": [],
   "source": [
    "filename = 'ShowIpRoute.txt'\n",
    "f = open(filename,'r')\n",
    "txt = f.read()"
   ]
  },
  {
   "cell_type": "code",
   "execution_count": 20,
   "metadata": {
    "collapsed": true
   },
   "outputs": [],
   "source": [
    "import re\n",
    "\n",
    "text = re.split(r\"\\n+\", txt) # lista linijek\n",
    "\n",
    "pattern = re.compile(r'^\\w.*via.*')\n",
    "desc = re.compile(r'(\\w+\\d?\\s-\\s.*?)[,\\n]')\n",
    "\n",
    "foo = desc.finditer(txt)\n",
    "\n"
   ]
  },
  {
   "cell_type": "code",
   "execution_count": 21,
   "metadata": {
    "collapsed": true
   },
   "outputs": [],
   "source": [
    "lista = []\n",
    "description = []\n",
    "counter = 0\n",
    "for line in text:\n",
    "    if pattern.match(line):\n",
    "        lista.append(line)\n",
    "        counter+=1\n",
    "for i in foo:\n",
    "    description.append(i.group(1))\n",
    "\n",
    "dic = {}\n",
    "for elem in description:\n",
    "    s = re.split(r\" - \", elem)\n",
    "    dic[s[0]] = s[1]\n",
    "\n",
    "#dic['E'] = 'E'\n",
    "dic['H'] = 'NHRD'\n"
   ]
  },
  {
   "cell_type": "code",
   "execution_count": 22,
   "metadata": {},
   "outputs": [
    {
     "data": {
      "text/plain": [
       "['D 10.67.10.0 [200/128] via 10.119.254.244 , 0:02:22, Ethernet2',\n",
       " 'E 10.128.0.0 [200/128] via 10.119.254.244 , 0:02:22, Ethernet2',\n",
       " 'E 10.129.0.0 [200/129] via 10.119.254.240 , 0:02:22, Ethernet2',\n",
       " 'E 10.65.129.0 [200/128] via 10.119.254.244 , 0:02:22, Ethernet2',\n",
       " 'E 10.10.0.0 [200/128] via 10.119.254.244 , 0:02:22, Ethernet2',\n",
       " 'E 10.75.139.0 [200/129] via 10.119.254.240 , 0:02:23, Ethernet2',\n",
       " 'E 10.16.208.0 [200/128] via 10.119.254.244 , 0:02:22, Ethernet2',\n",
       " 'E 10.84.148.0 [200/129] via 10.119.254.240 , 0:02:23, Ethernet2',\n",
       " 'E 10.31.223.0 [200/128] via 10.119.254.244 , 0:02:22, Ethernet2',\n",
       " 'E 10.141.0.0 [200/129] via 10.119.254.240 , 0:02:22, Ethernet2',\n",
       " 'E 10.140.0.0 [200/129] via 10.119.254.240 , 0:02:23, Ethernet2',\n",
       " 'H 172.16.99.0 [250/1] via 10.1.1.99 , 00:11:43, Tunnel0',\n",
       " 'O 10.110.0.0 [160/5] via 10.119.254.6 , 0:01:00, Ethernet2',\n",
       " 'O 10.68.132.0 [160/5] via 10.119.254.6 , 0:00:59, Ethernet2',\n",
       " 'O 10.130.0.0 [160/5] via 10.119.254.6 , 0:00:59, Ethernet2',\n",
       " 'i 10.89.67.0 [115/20] via 10.89.64.240 , 0:00:12, Ethernet0',\n",
       " 'i 10.89.66.0 [115/20] via 10.89.64.240 , 0:00:12, Ethernet0']"
      ]
     },
     "execution_count": 22,
     "metadata": {},
     "output_type": "execute_result"
    }
   ],
   "source": [
    "pattern1 = re.compile(r'\\d+(.\\d+){3}')\n",
    "lista2 = []\n",
    "lista3 = []\n",
    "for line in lista:\n",
    "    if pattern1.match(line.split(' ') [1]):\n",
    "        lista2.append(line)\n",
    "    else:\n",
    "        line = line.replace(line[1:4],'')\n",
    "        lista3.append(line)\n",
    "lista = lista2 + lista3     \n",
    "lista"
   ]
  },
  {
   "cell_type": "code",
   "execution_count": 30,
   "metadata": {},
   "outputs": [
    {
     "data": {
      "text/plain": [
       "['Ethernet2',\n",
       " 'Ethernet2',\n",
       " 'Ethernet2',\n",
       " 'Ethernet2',\n",
       " 'Ethernet2',\n",
       " 'Ethernet2',\n",
       " 'Ethernet2',\n",
       " 'Ethernet2',\n",
       " 'Ethernet2',\n",
       " 'Ethernet2',\n",
       " 'Ethernet2',\n",
       " 'Tunnel0',\n",
       " 'Ethernet2',\n",
       " 'Ethernet2',\n",
       " 'Ethernet2',\n",
       " 'Ethernet0',\n",
       " 'Ethernet0']"
      ]
     },
     "execution_count": 30,
     "metadata": {},
     "output_type": "execute_result"
    }
   ],
   "source": [
    "Protocol =[i.split(' ') [0] for i in lista]\n",
    "Prefix =[i.split(' ') [1] for i in lista]\n",
    "AD_METRIC =[i.split(' ') [2] for i in lista]\n",
    "Next_Hop =[i.split(' ') [4] for i in lista]\n",
    "Time =[i.split(' ') [6] for i in lista]\n",
    "Int =[i.split(' ') [7] for i in lista]\n",
    "\n",
    "Int"
   ]
  },
  {
   "cell_type": "code",
   "execution_count": 31,
   "metadata": {},
   "outputs": [
    {
     "name": "stdout",
     "output_type": "stream",
     "text": [
      "Protocol: EIGRP\n",
      "Prefix: 10.67.10.0\n",
      "AD/Metric: 200/128\n",
      "Next-Hop: 10.119.254.24\n",
      "Last Update: 0:02:22\n",
      "Outbound interface: Ethernet2 \n",
      "\n",
      "Protocol: EGP\n",
      "Prefix: 10.128.0.0\n",
      "AD/Metric: 200/128\n",
      "Next-Hop: 10.119.254.24\n",
      "Last Update: 0:02:22\n",
      "Outbound interface: Ethernet2 \n",
      "\n",
      "Protocol: EGP\n",
      "Prefix: 10.129.0.0\n",
      "AD/Metric: 200/129\n",
      "Next-Hop: 10.119.254.24\n",
      "Last Update: 0:02:22\n",
      "Outbound interface: Ethernet2 \n",
      "\n",
      "Protocol: EGP\n",
      "Prefix: 10.65.129.0\n",
      "AD/Metric: 200/128\n",
      "Next-Hop: 10.119.254.24\n",
      "Last Update: 0:02:22\n",
      "Outbound interface: Ethernet2 \n",
      "\n",
      "Protocol: EGP\n",
      "Prefix: 10.10.0.0\n",
      "AD/Metric: 200/128\n",
      "Next-Hop: 10.119.254.24\n",
      "Last Update: 0:02:22\n",
      "Outbound interface: Ethernet2 \n",
      "\n",
      "Protocol: EGP\n",
      "Prefix: 10.75.139.0\n",
      "AD/Metric: 200/129\n",
      "Next-Hop: 10.119.254.24\n",
      "Last Update: 0:02:23\n",
      "Outbound interface: Ethernet2 \n",
      "\n",
      "Protocol: EGP\n",
      "Prefix: 10.16.208.0\n",
      "AD/Metric: 200/128\n",
      "Next-Hop: 10.119.254.24\n",
      "Last Update: 0:02:22\n",
      "Outbound interface: Ethernet2 \n",
      "\n",
      "Protocol: EGP\n",
      "Prefix: 10.84.148.0\n",
      "AD/Metric: 200/129\n",
      "Next-Hop: 10.119.254.24\n",
      "Last Update: 0:02:23\n",
      "Outbound interface: Ethernet2 \n",
      "\n",
      "Protocol: EGP\n",
      "Prefix: 10.31.223.0\n",
      "AD/Metric: 200/128\n",
      "Next-Hop: 10.119.254.24\n",
      "Last Update: 0:02:22\n",
      "Outbound interface: Ethernet2 \n",
      "\n",
      "Protocol: EGP\n",
      "Prefix: 10.141.0.0\n",
      "AD/Metric: 200/129\n",
      "Next-Hop: 10.119.254.24\n",
      "Last Update: 0:02:22\n",
      "Outbound interface: Ethernet2 \n",
      "\n",
      "Protocol: EGP\n",
      "Prefix: 10.140.0.0\n",
      "AD/Metric: 200/129\n",
      "Next-Hop: 10.119.254.24\n",
      "Last Update: 0:02:23\n",
      "Outbound interface: Ethernet2 \n",
      "\n",
      "Protocol: NHRD\n",
      "Prefix: 172.16.99.0\n",
      "AD/Metric: 250/1\n",
      "Next-Hop: 10.1.1.9\n",
      "Last Update: 00:11:43\n",
      "Outbound interface: Tunnel0 \n",
      "\n",
      "Protocol: OSPF derived\n",
      "Prefix: 10.110.0.0\n",
      "AD/Metric: 160/5\n",
      "Next-Hop: 10.119.254.\n",
      "Last Update: 0:01:00\n",
      "Outbound interface: Ethernet2 \n",
      "\n",
      "Protocol: OSPF derived\n",
      "Prefix: 10.68.132.0\n",
      "AD/Metric: 160/5\n",
      "Next-Hop: 10.119.254.\n",
      "Last Update: 0:00:59\n",
      "Outbound interface: Ethernet2 \n",
      "\n",
      "Protocol: OSPF derived\n",
      "Prefix: 10.130.0.0\n",
      "AD/Metric: 160/5\n",
      "Next-Hop: 10.119.254.\n",
      "Last Update: 0:00:59\n",
      "Outbound interface: Ethernet2 \n",
      "\n",
      "Protocol: IS-IS derived\n",
      "Prefix: 10.89.67.0\n",
      "AD/Metric: 115/20\n",
      "Next-Hop: 10.89.64.24\n",
      "Last Update: 0:00:12\n",
      "Outbound interface: Ethernet0 \n",
      "\n",
      "Protocol: IS-IS derived\n",
      "Prefix: 10.89.66.0\n",
      "AD/Metric: 115/20\n",
      "Next-Hop: 10.89.64.24\n",
      "Last Update: 0:00:12\n",
      "Outbound interface: Ethernet0 \n",
      "\n"
     ]
    }
   ],
   "source": [
    "for nr in range(0,counter):\n",
    "    val = dic[Protocol[nr]]\n",
    "    AD_METRIC[nr] = AD_METRIC[nr][1:-1]\n",
    "    Next_Hop[nr] = Next_Hop[nr][:-1]\n",
    "    Time[nr] = Time[nr][:-1]\n",
    "    print('Protocol:',val)\n",
    "    print('Prefix:',Prefix[nr])\n",
    "    print('AD/Metric:',AD_METRIC[nr])\n",
    "    print('Next-Hop:',Next_Hop[nr])\n",
    "    print('Last Update:',Time[nr])\n",
    "    print('Outbound interface:',Int[nr],'\\n')"
   ]
  },
  {
   "cell_type": "code",
   "execution_count": null,
   "metadata": {
    "collapsed": true
   },
   "outputs": [],
   "source": []
  }
 ],
 "metadata": {
  "kernelspec": {
   "display_name": "Python 3",
   "language": "python",
   "name": "python3"
  },
  "language_info": {
   "codemirror_mode": {
    "name": "ipython",
    "version": 3
   },
   "file_extension": ".py",
   "mimetype": "text/x-python",
   "name": "python",
   "nbconvert_exporter": "python",
   "pygments_lexer": "ipython3",
   "version": "3.6.1"
  }
 },
 "nbformat": 4,
 "nbformat_minor": 2
}
