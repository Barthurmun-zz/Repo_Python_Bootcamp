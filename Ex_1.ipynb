{
 "cells": [
  {
   "cell_type": "code",
   "execution_count": 48,
   "metadata": {},
   "outputs": [
    {
     "name": "stdout",
     "output_type": "stream",
     "text": [
      "\n",
      "Enter Ip address:192.168.2.12\n"
     ]
    }
   ],
   "source": [
    "import re\n",
    "\n",
    "ip = input('\\nEnter Ip address:')\n",
    "pattern1 = re.search('^(([0-9]|[1-9][0-9]|1[0-9][0-9]|2[0-4][0-9]|25[0-5]).([0-9]|[1-9][0-9]|1[0-9][0-9]|2[0-4][0-9]|25[0-5]).([0-9]|[1-9][0-9]|1[0-9][0-9]|2[0-4][0-9]|25[0-5]).([0-9]|[1-9][0-9]|1[0-9][0-9]|2[0-4][0-9]|25[0-5]))$',ip)\n"
   ]
  },
  {
   "cell_type": "code",
   "execution_count": 49,
   "metadata": {
    "collapsed": true
   },
   "outputs": [],
   "source": [
    "while pattern1 == None:\n",
    "    print('IP Address is invalid\\n')\n",
    "    ip = input(\"Enter ip address:\")\n",
    "    pattern1 = re.search('^(([0-9]|[1-9][0-9]|1[0-9][0-9]|2[0-4][0-9]|25[0-5]).([0-9]|[1-9][0-9]|1[0-9][0-9]|2[0-4][0-9]|25[0-5]).([0-9]|[1-9][0-9]|1[0-9][0-9]|2[0-4][0-9]|25[0-5]).([0-9]|[1-9][0-9]|1[0-9][0-9]|2[0-4][0-9]|25[0-5]))$',ip)\n",
    "    if pattern1 != None:  \n",
    "        break\n",
    "\n",
    "ip=pattern1.group(0)"
   ]
  },
  {
   "cell_type": "code",
   "execution_count": 50,
   "metadata": {},
   "outputs": [
    {
     "name": "stdout",
     "output_type": "stream",
     "text": [
      "Enter subnet mask in decimal format:/24\n"
     ]
    }
   ],
   "source": [
    "mask = input(\"Enter subnet mask in decimal format:\")\n",
    "pattern2 = re.search('^/([0-9]|[1-2][0-9]|3[0-2])$',mask)\n"
   ]
  },
  {
   "cell_type": "code",
   "execution_count": 51,
   "metadata": {
    "collapsed": true
   },
   "outputs": [],
   "source": [
    "while pattern2 == None:\n",
    "    print('Subnet mask is invalid\\n')\n",
    "    mask = input(\"Enter subnet mask in decimal format:\")\n",
    "    pattern2 = re.search('^/([0-9]|[1-2][0-9]|3[0-2])$',mask)\n",
    "    if pattern2 != None:\n",
    "        break\n",
    "    \n",
    "mask = pattern2.group(0)\n"
   ]
  },
  {
   "cell_type": "code",
   "execution_count": 52,
   "metadata": {},
   "outputs": [],
   "source": [
    "IP = ip.split('.')"
   ]
  },
  {
   "cell_type": "code",
   "execution_count": 54,
   "metadata": {},
   "outputs": [],
   "source": [
    "IP =[int(i) for i in IP]\n",
    "IP_bin = [f'{z:08b}' for z in IP]"
   ]
  },
  {
   "cell_type": "code",
   "execution_count": 55,
   "metadata": {
    "collapsed": true
   },
   "outputs": [],
   "source": [
    "mask = mask.split('/')[1]"
   ]
  },
  {
   "cell_type": "code",
   "execution_count": 56,
   "metadata": {},
   "outputs": [],
   "source": [
    "mask = int(mask)\n",
    "ones = 2**32-1"
   ]
  },
  {
   "cell_type": "code",
   "execution_count": 57,
   "metadata": {},
   "outputs": [],
   "source": [
    "num = (ones << 32-mask)&ones \n",
    "\n",
    "bnum = bin(num).split('b')[1]\n",
    "\n",
    "bbask = [bnum[0:8], bnum[8:16], bnum[16:24], bnum[24:32]]\n",
    "\n"
   ]
  },
  {
   "cell_type": "code",
   "execution_count": 58,
   "metadata": {
    "collapsed": true
   },
   "outputs": [],
   "source": [
    "bmask = [int(i,2) for i in bbask]"
   ]
  },
  {
   "cell_type": "code",
   "execution_count": 59,
   "metadata": {},
   "outputs": [
    {
     "name": "stdout",
     "output_type": "stream",
     "text": [
      "    192      168        2       12\n",
      "11000000 10101000 00000010 00001100\n",
      "Network address: 192.168.2.0/24\n",
      "Broadcast address:  192.168.2.255/24\n"
     ]
    }
   ],
   "source": [
    "network = [ ip&mask for ip, mask in zip(IP, bmask)]\n",
    "broadcast = [ ip|(255-mask) for ip, mask in zip(IP, bmask)]\n",
    "ip_out = str(IP[0]).rjust(7)+' '+str(IP[1]).rjust(8)+' '+str(IP[2]).rjust(8)+' '+str(IP[3]).rjust(8)\n",
    "bbask_out = str(bbask[0])+' '+str(bbask[1])+' '+str(bbask[2])+' '+str(bbask[3])\n",
    "ip_binout = (IP_bin[0].rjust(7))+' '+(IP_bin[1].rjust(8))+' '+(IP_bin[2].rjust(8))+' '+(IP_bin[3].rjust(8))\n",
    "network_out = str(network[0])+'.'+str(network[1])+'.'+str(network[2])+'.'+str(network[3])+'/'+str(mask)\n",
    "broadcast_out = str(broadcast[0])+'.'+str(broadcast[1])+'.'+str(broadcast[2])+'.'+str(broadcast[3])+'/'+str(mask)\n",
    "print(ip_out)\n",
    "print(ip_binout)\n",
    "print('Network address:',network_out)\n",
    "print('Broadcast address: ',broadcast_out)"
   ]
  }
 ],
 "metadata": {
  "kernelspec": {
   "display_name": "Python 3",
   "language": "python",
   "name": "python3"
  },
  "language_info": {
   "codemirror_mode": {
    "name": "ipython",
    "version": 3
   },
   "file_extension": ".py",
   "mimetype": "text/x-python",
   "name": "python",
   "nbconvert_exporter": "python",
   "pygments_lexer": "ipython3",
   "version": "3.6.1"
  }
 },
 "nbformat": 4,
 "nbformat_minor": 2
}
