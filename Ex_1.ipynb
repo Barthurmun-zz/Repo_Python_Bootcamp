{
 "cells": [
  {
   "cell_type": "code",
   "execution_count": 1,
   "metadata": {},
   "outputs": [
    {
     "name": "stdout",
     "output_type": "stream",
     "text": [
      "\n",
      "Enter Ip address:192.168.0.12\n"
     ]
    }
   ],
   "source": [
    "import re\n",
    "\n",
    "ip = input('\\nEnter Ip address:')\n",
    "pattern1 = re.search('^(([0-9]|[1-9][0-9]|1[0-9][0-9]|2[0-4][0-9]|25[0-5]).([0-9]|[1-9][0-9]|1[0-9][0-9]|2[0-4][0-9]|25[0-5]).([0-9]|[1-9][0-9]|1[0-9][0-9]|2[0-4][0-9]|25[0-5]).([0-9]|[1-9][0-9]|1[0-9][0-9]|2[0-4][0-9]|25[0-5]))$',ip)\n"
   ]
  },
  {
   "cell_type": "code",
   "execution_count": 3,
   "metadata": {
    "collapsed": true
   },
   "outputs": [],
   "source": [
    "while pattern1 == None:\n",
    "    print('IP Address is invalid\\n')\n",
    "    ip = input(\"Enter ip address:\")\n",
    "    pattern1 = re.search('^(([0-9]|[1-9][0-9]|1[0-9][0-9]|2[0-4][0-9]|25[0-5]).([0-9]|[1-9][0-9]|1[0-9][0-9]|2[0-4][0-9]|25[0-5]).([0-9]|[1-9][0-9]|1[0-9][0-9]|2[0-4][0-9]|25[0-5]).([0-9]|[1-9][0-9]|1[0-9][0-9]|2[0-4][0-9]|25[0-5]))$',ip)\n",
    "    if pattern1 != None:  \n",
    "        break\n",
    "\n",
    "ip=pattern1.group(0)"
   ]
  },
  {
   "cell_type": "code",
   "execution_count": 4,
   "metadata": {},
   "outputs": [
    {
     "name": "stdout",
     "output_type": "stream",
     "text": [
      "Enter subnet mask in decimal format:/24\n"
     ]
    }
   ],
   "source": [
    "mask = input(\"Enter subnet mask in decimal format:\")\n",
    "pattern2 = re.search('^/([0-9]|[1-2][0-9]|3[0-2])$',mask)\n"
   ]
  },
  {
   "cell_type": "code",
   "execution_count": 5,
   "metadata": {
    "collapsed": true
   },
   "outputs": [],
   "source": [
    "while pattern2 == None:\n",
    "    print('Subnet mask is invalid\\n')\n",
    "    mask = input(\"Enter subnet mask in decimal format:\")\n",
    "    pattern2 = re.search('^/([0-9]|[1-2][0-9]|3[0-2])$',mask)\n",
    "    if pattern2 != None:\n",
    "        break\n",
    "    \n",
    "mask = pattern2.group(0)\n"
   ]
  },
  {
   "cell_type": "code",
   "execution_count": 6,
   "metadata": {},
   "outputs": [],
   "source": [
    "IP = ip.split('.')\n"
   ]
  },
  {
   "cell_type": "code",
   "execution_count": 7,
   "metadata": {},
   "outputs": [],
   "source": [
    "IP =[int(i) for i in IP]"
   ]
  },
  {
   "cell_type": "code",
   "execution_count": 8,
   "metadata": {},
   "outputs": [],
   "source": [
    "mask = mask.split('/')[1]"
   ]
  },
  {
   "cell_type": "code",
   "execution_count": 9,
   "metadata": {},
   "outputs": [],
   "source": [
    "mask = int(mask)\n",
    "ones = 2**32-1"
   ]
  },
  {
   "cell_type": "code",
   "execution_count": 10,
   "metadata": {},
   "outputs": [],
   "source": [
    "num = (ones << 32-mask)&ones \n",
    "\n",
    "bnum = bin(num).split('b')[1]\n",
    "\n",
    "bbask = [bnum[0:8], bnum[8:16], bnum[16:24], bnum[24:32]]"
   ]
  },
  {
   "cell_type": "code",
   "execution_count": 11,
   "metadata": {},
   "outputs": [],
   "source": [
    "bmask = [int(i,2) for i in bbask]"
   ]
  },
  {
   "cell_type": "code",
   "execution_count": 12,
   "metadata": {},
   "outputs": [
    {
     "name": "stdout",
     "output_type": "stream",
     "text": [
      "Network address: [192, 168, 0, 0]\n",
      "Broadcast address:  [192, 168, 0, 255]\n"
     ]
    }
   ],
   "source": [
    "network = [ ip&mask for ip, mask in zip(IP, bmask)]\n",
    "broadcast = [ ip|(255-mask) for ip, mask in zip(IP, bmask)]\n",
    "print('Network address:',network)\n",
    "print('Broadcast address: ',broadcast)"
   ]
  }
 ],
 "metadata": {
  "kernelspec": {
   "display_name": "Python 3",
   "language": "python",
   "name": "python3"
  },
  "language_info": {
   "codemirror_mode": {
    "name": "ipython",
    "version": 3
   },
   "file_extension": ".py",
   "mimetype": "text/x-python",
   "name": "python",
   "nbconvert_exporter": "python",
   "pygments_lexer": "ipython3",
   "version": "3.6.1"
  }
 },
 "nbformat": 4,
 "nbformat_minor": 2
}
