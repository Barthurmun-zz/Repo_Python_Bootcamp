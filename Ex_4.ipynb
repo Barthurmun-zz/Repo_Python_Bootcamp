{
 "cells": [
  {
   "cell_type": "code",
   "execution_count": 12,
   "metadata": {
    "collapsed": true
   },
   "outputs": [],
   "source": [
    "access_template = ['switchport mode access',\n",
    "'switchport access vlan {}',\n",
    "'switchport nonegotiate',\n",
    "'spanning-tree portfast',\n",
    "'spanning-tree bpduguard enable']\n",
    "\n",
    "trunk_template = ['switchport trunk encapsulation dot1q',\n",
    "'switchport mode trunk',\n",
    "'switchport trunk allowed vlan {}']"
   ]
  },
  {
   "cell_type": "code",
   "execution_count": 13,
   "metadata": {},
   "outputs": [
    {
     "name": "stdout",
     "output_type": "stream",
     "text": [
      "Enter interface mode (access/trunk):trunk\n",
      "Enter interface type and number:14,12,15,18\n",
      "Enter interface type and number:Gi0/1\n",
      "Enter allowed VLANs:17,2,1,6,12\n"
     ]
    }
   ],
   "source": [
    "import re\n",
    "first = None\n",
    "while first not in ['access','trunk']:\n",
    "     first = input(\"Enter interface mode (access/trunk):\")\n",
    "\n",
    "pattern = None\n",
    "while pattern == None:\n",
    "    second = input(\"Enter interface type and number:\")\n",
    "    pattern = re.search('((Fa|Gi|Se)\\d{1,2}/\\d{1,2})',second)\n",
    "\n",
    "if first == 'access':\n",
    "    pattern1 = None\n",
    "    while pattern1 == None:\n",
    "        third = input(\"Enter VLAN number:\")\n",
    "        pattern1 = re.search('^(\\d|[1-9][0-9]|[1-9][0-9][0-9]|[1-3][0-9][0-9][0-9]|40[0-8][0-9]|409[0-5])$',third)\n",
    "elif first == 'trunk':\n",
    "    pattern2 = None\n",
    "    while pattern2 == None:\n",
    "        third = input(\"Enter allowed VLANs:\")\n",
    "        pattern2 = re.search('^(\\d|[1-9][0-9]|[1-9][0-9][0-9]|[1-3][0-9][0-9][0-9]|40[0-8][0-9]|409[0-5])(,(\\d|[1-9][0-9]|[1-9][0-9][0-9]|[1-3][0-9][0-9][0-9]|40[0-8][0-9]|409[0-5]))*$',third)\n"
   ]
  },
  {
   "cell_type": "code",
   "execution_count": 14,
   "metadata": {},
   "outputs": [
    {
     "name": "stdout",
     "output_type": "stream",
     "text": [
      "Interface Gi0/1\n",
      "switchport trunk encapsulation dot1q\n",
      "switchport mode trunk\n",
      "switchport trunk allowed vlan 17,2,1,6,12\n"
     ]
    }
   ],
   "source": [
    "print('Interface {}'.format(second))\n",
    "if first == 'access':\n",
    "    for i in range(5):\n",
    "        if i == 1:\n",
    "            print(access_template[1].format(third))\n",
    "        else:\n",
    "            print(access_template[i])\n",
    "if first == 'trunk':\n",
    "    for i in range(3):\n",
    "        if i == 2:\n",
    "            print(trunk_template[2].format(third))\n",
    "        else:\n",
    "            print(trunk_template[i])"
   ]
  }
 ],
 "metadata": {
  "kernelspec": {
   "display_name": "Python 3",
   "language": "python",
   "name": "python3"
  },
  "language_info": {
   "codemirror_mode": {
    "name": "ipython",
    "version": 3
   },
   "file_extension": ".py",
   "mimetype": "text/x-python",
   "name": "python",
   "nbconvert_exporter": "python",
   "pygments_lexer": "ipython3",
   "version": "3.6.1"
  }
 },
 "nbformat": 4,
 "nbformat_minor": 2
}
