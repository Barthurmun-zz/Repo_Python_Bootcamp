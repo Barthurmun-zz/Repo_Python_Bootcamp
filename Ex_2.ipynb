{
 "cells": [
  {
   "cell_type": "code",
   "execution_count": 20,
   "metadata": {
    "collapsed": true
   },
   "outputs": [],
   "source": [
    "filename = 'command.txt'\n",
    "\n",
    "with open(filename,'r') as f:\n",
    "    txt = f.readlines()\n",
    "    "
   ]
  },
  {
   "cell_type": "code",
   "execution_count": 21,
   "metadata": {
    "collapsed": true
   },
   "outputs": [],
   "source": [
    "import re\n",
    "\n",
    "pattern = re.compile(r'\\bswitchport trunk allowed vlan (\\d).*\\b')\n"
   ]
  },
  {
   "cell_type": "code",
   "execution_count": 22,
   "metadata": {
    "collapsed": true
   },
   "outputs": [],
   "source": [
    "lista = []\n",
    "counter = 0\n",
    "for line in txt:\n",
    "    if pattern.match(line):\n",
    "        lista.append(line)\n",
    "        counter+=1"
   ]
  },
  {
   "cell_type": "code",
   "execution_count": 23,
   "metadata": {
    "collapsed": true
   },
   "outputs": [],
   "source": [
    "nums = [i.strip().split(' ') [4] for i in lista]"
   ]
  },
  {
   "cell_type": "code",
   "execution_count": 24,
   "metadata": {
    "collapsed": true
   },
   "outputs": [],
   "source": [
    "n = []\n",
    "for i in nums:\n",
    "    for e in i.split(','):\n",
    "        n.append(e)"
   ]
  },
  {
   "cell_type": "code",
   "execution_count": 25,
   "metadata": {
    "collapsed": true
   },
   "outputs": [],
   "source": [
    "dic = {}\n",
    "for i in n:\n",
    "    if i in dic.keys():\n",
    "        dic[i] = dic[i]+1\n",
    "    else:\n",
    "        dic[i] = 1"
   ]
  },
  {
   "cell_type": "code",
   "execution_count": 26,
   "metadata": {
    "collapsed": true
   },
   "outputs": [],
   "source": [
    "l_only_one = []\n",
    "l_every_time = []\n",
    "for key in dic.keys():\n",
    "    if dic[key] == 1:\n",
    "        l_only_one.append(key)\n",
    "    elif dic[key] == counter:\n",
    "        l_every_time.append(key)"
   ]
  },
  {
   "cell_type": "code",
   "execution_count": 27,
   "metadata": {},
   "outputs": [],
   "source": [
    "#l_only_one.remove('')\n",
    "        "
   ]
  },
  {
   "cell_type": "code",
   "execution_count": 28,
   "metadata": {
    "collapsed": true
   },
   "outputs": [],
   "source": [
    "for idx,nr in enumerate(l_only_one):\n",
    "    l_only_one[idx]=int(l_only_one[idx])"
   ]
  },
  {
   "cell_type": "code",
   "execution_count": 29,
   "metadata": {
    "collapsed": true
   },
   "outputs": [],
   "source": [
    "for idx,nr in enumerate(l_every_time):\n",
    "    l_every_time[idx]=int(l_every_time[idx])"
   ]
  },
  {
   "cell_type": "code",
   "execution_count": 30,
   "metadata": {},
   "outputs": [
    {
     "name": "stdout",
     "output_type": "stream",
     "text": [
      "All unique values :  [3, 25, 44, 77, 88, 100, 112]\n",
      "All common vlans :  [5, 111]\n"
     ]
    }
   ],
   "source": [
    "print(\"All unique values : \" , sorted(l_only_one))\n",
    "print(\"All common vlans : \" , sorted(l_every_time)) "
   ]
  },
  {
   "cell_type": "code",
   "execution_count": null,
   "metadata": {
    "collapsed": true
   },
   "outputs": [],
   "source": []
  }
 ],
 "metadata": {
  "kernelspec": {
   "display_name": "Python 3",
   "language": "python",
   "name": "python3"
  },
  "language_info": {
   "codemirror_mode": {
    "name": "ipython",
    "version": 3
   },
   "file_extension": ".py",
   "mimetype": "text/x-python",
   "name": "python",
   "nbconvert_exporter": "python",
   "pygments_lexer": "ipython3",
   "version": "3.6.1"
  }
 },
 "nbformat": 4,
 "nbformat_minor": 2
}
